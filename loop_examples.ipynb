{
 "cells": [
  {
   "cell_type": "code",
   "execution_count": 115,
   "metadata": {},
   "outputs": [
    {
     "name": "stdout",
     "output_type": "stream",
     "text": [
      "5\n",
      "4\n",
      "83\n",
      "4\n",
      "2\n",
      "82\n"
     ]
    }
   ],
   "source": [
    "#Loops\n",
    "#for x in 1: \"Iterate on X for each value in list\"\n",
    "\n",
    "target_list = [4,3,82,3,1,81]\n",
    "\n",
    "for value in target_list:\n",
    "    total = value + 1\n",
    "    print(total)"
   ]
  },
  {
   "cell_type": "code",
   "execution_count": 111,
   "metadata": {},
   "outputs": [
    {
     "data": {
      "text/plain": [
       "[5, 4, 83, 4, 2, 82]"
      ]
     },
     "execution_count": 111,
     "metadata": {},
     "output_type": "execute_result"
    }
   ],
   "source": [
    "#incrementing a list by 1 using a function \n",
    "\n",
    "target_list = [4,3,82,3,1,81]\n",
    "\n",
    "def incremented_list(x):\n",
    "    \n",
    "    new = []\n",
    "    for item in x:\n",
    "\n",
    "        incremented_item = item + 1\n",
    "        new.append(incremented_item)\n",
    "    return new\n",
    "\n",
    "incremented_list(target_list)"
   ]
  },
  {
   "cell_type": "code",
   "execution_count": 41,
   "metadata": {},
   "outputs": [
    {
     "data": {
      "text/plain": [
       "[5, 4, 83, 4, 2, 82]"
      ]
     },
     "execution_count": 41,
     "metadata": {},
     "output_type": "execute_result"
    }
   ],
   "source": [
    "#incrementing a list by 1 without using a function\n",
    "\n",
    "target_list = [4,3,82,3,1,81]\n",
    "\n",
    "new=[]\n",
    "\n",
    "for item in target_list:\n",
    "\n",
    "    incremented_item = item + 1\n",
    "    new.append(incremented_item)\n",
    "\n",
    "new"
   ]
  },
  {
   "cell_type": "code",
   "execution_count": 48,
   "metadata": {},
   "outputs": [
    {
     "data": {
      "text/plain": [
       "[5, 4, 82, 4, 2, 81]"
      ]
     },
     "execution_count": 48,
     "metadata": {},
     "output_type": "execute_result"
    }
   ],
   "source": [
    "# incrementing only items from the list in with values in a certain range\n",
    "\n",
    "target_list = [4,3,82,3,1,81]\n",
    "\n",
    "def early_incremented_list(x):\n",
    "    \n",
    "    new = []\n",
    "    for item in x:\n",
    "\n",
    "        if item in range(0,80):\n",
    "            incremented_item = item + 1\n",
    "        else:\n",
    "            incremented_item = item\n",
    "            \n",
    "        new.append(incremented_item)\n",
    "    return new\n",
    "\n",
    "early_incremented_list(target_list)"
   ]
  },
  {
   "cell_type": "code",
   "execution_count": 1,
   "metadata": {},
   "outputs": [
    {
     "data": {
      "text/plain": [
       "[4, 4, 83, 4, 2, 82]"
      ]
     },
     "execution_count": 1,
     "metadata": {},
     "output_type": "execute_result"
    }
   ],
   "source": [
    "# incrementing only items from the list in with position in a certain range\n",
    "\n",
    "target_list = [4,3,82,3,1,81]\n",
    "\n",
    "def early_incremented_list(x):\n",
    "    \n",
    "    new = []\n",
    "    for item in x:\n",
    "\n",
    "        if item in x[2:]: #this states to only perform this action for positions 3 forward\n",
    "            incremented_item = item + 1\n",
    "        else:\n",
    "            incremented_item = item\n",
    "            \n",
    "        new.append(incremented_item)\n",
    "    return new\n",
    "\n",
    "early_incremented_list(target_list)"
   ]
  },
  {
   "cell_type": "code",
   "execution_count": 57,
   "metadata": {},
   "outputs": [
    {
     "data": {
      "text/plain": [
       "[5, 4, 83, 3, 1, 81]"
      ]
     },
     "execution_count": 57,
     "metadata": {},
     "output_type": "execute_result"
    }
   ],
   "source": [
    "# incrementing only items from the list in with position in a certain range\n",
    "\n",
    "target_list = [4,3,82,3,1,81]\n",
    "\n",
    "def early_incremented_list(x):\n",
    "    \n",
    "    new = []\n",
    "    for item in x:\n",
    "\n",
    "        if len(new)<=2:\n",
    "            incremented_item = item + 1\n",
    "        else:\n",
    "            incremented_item = item\n",
    "            \n",
    "        new.append(incremented_item)\n",
    "    return new\n",
    "\n",
    "early_incremented_list(target_list)"
   ]
  },
  {
   "cell_type": "code",
   "execution_count": 78,
   "metadata": {},
   "outputs": [
    {
     "data": {
      "text/plain": [
       "[4, 7, 89, 92, 93, 174]"
      ]
     },
     "execution_count": 78,
     "metadata": {},
     "output_type": "execute_result"
    }
   ],
   "source": [
    "# Write a function that returns the cumulative sum of elements in a list\n",
    "\n",
    "target_list = [4,3,82,3,1,81]\n",
    "\n",
    "def cumulative_list(x):\n",
    "    \n",
    "    new = []\n",
    "    for item in x:\n",
    "\n",
    "        if len(new)==0:\n",
    "            cum_item = item\n",
    "        else:\n",
    "            cum_item = item + new[len(new)-1]\n",
    "            \n",
    "        new.append(cum_item)\n",
    "    return new\n",
    "\n",
    "cumulative_list(target_list)\n"
   ]
  },
  {
   "cell_type": "code",
   "execution_count": 88,
   "metadata": {},
   "outputs": [
    {
     "data": {
      "text/plain": [
       "[3, 3, 1, 81]"
      ]
     },
     "execution_count": 88,
     "metadata": {},
     "output_type": "execute_result"
    }
   ],
   "source": [
    "# Write a function that returns only the odd numbers in a list\n",
    "\n",
    "target_list = [4,3,82,3,1,81]\n",
    "\n",
    "def odds_list(x):\n",
    "    \n",
    "    new = []\n",
    "    for item in x:\n",
    "\n",
    "        if item %2 !=0:           \n",
    "            new.append(item)\n",
    "            \n",
    "    return new\n",
    "\n",
    "odds_list(target_list)\n"
   ]
  },
  {
   "cell_type": "code",
   "execution_count": 2,
   "metadata": {},
   "outputs": [
    {
     "data": {
      "text/plain": [
       "['9', '8', '7', '6', '5', '4', '6', '2', '5']"
      ]
     },
     "execution_count": 2,
     "metadata": {},
     "output_type": "execute_result"
    }
   ],
   "source": [
    "# Convert digits in a number to a string\n",
    "\n",
    "input_number = 987654625\n",
    "\n",
    "string_input_number = str(input_number)\n",
    "\n",
    "new = []\n",
    "\n",
    "def string_to_list(x):\n",
    "\n",
    "    for item in range(0,len(x)):\n",
    "\n",
    "        item = string_input_number[len(new)]\n",
    "        new.append(item)\n",
    "\n",
    "    return new\n",
    "\n",
    "string_to_list(string_input_number)"
   ]
  },
  {
   "cell_type": "code",
   "execution_count": 40,
   "metadata": {},
   "outputs": [
    {
     "data": {
      "text/plain": [
       "[3, 3, 81]"
      ]
     },
     "execution_count": 40,
     "metadata": {},
     "output_type": "execute_result"
    }
   ],
   "source": [
    "#Write a function that returns the elements on odd positions (0 based) in a list\n",
    "\n",
    "target_list = [4,3,82,3,1,81]\n",
    "\n",
    "new = []\n",
    "\n",
    "def odd_positions_only(x):\n",
    "\n",
    "    incremental_number = 0\n",
    "    \n",
    "    for item in x:\n",
    "        \n",
    "        if incremental_number % 2 != 0:\n",
    "            new.append(item)\n",
    "\n",
    "        incremental_number = incremental_number+1\n",
    "        \n",
    "    return new\n",
    "\n",
    "odd_positions_only(target_list)\n"
   ]
  },
  {
   "cell_type": "code",
   "execution_count": 5,
   "metadata": {},
   "outputs": [
    {
     "data": {
      "text/plain": [
       "41.0"
      ]
     },
     "execution_count": 5,
     "metadata": {},
     "output_type": "execute_result"
    }
   ],
   "source": [
    "#write a function that gives you the center average of a list\n",
    "\n",
    "target_list = [4,3,82,3,1,81,4,5,1,2]\n",
    "\n",
    "def get_center_avg(x):\n",
    "    \n",
    "    list_length = len(target_list)\n",
    "    half_list_position = int(list_length/2) - 1\n",
    "    half_list_position_p1 = int(list_length/2)\n",
    "    \n",
    "    adj_half_list_position = int((list_length - 1)/2 + 0.5)\n",
    "    \n",
    "    \n",
    "    if list_length % 2 == 0:\n",
    "        first_center = target_list[half_list_position]\n",
    "        second_center = target_list[half_list_position_p1]\n",
    "        center_avg = (first_center + second_center) / 2\n",
    "    else:\n",
    "        center_avg = target_list[adj_half_list_position]\n",
    "        \n",
    "    return center_avg      \n",
    "\n",
    "get_center_avg(target_list)"
   ]
  },
  {
   "cell_type": "code",
   "execution_count": 139,
   "metadata": {},
   "outputs": [
    {
     "name": "stdout",
     "output_type": "stream",
     "text": [
      "4.0\n"
     ]
    }
   ],
   "source": [
    "# Return the \"centered\" average of an array of ints, \n",
    "# which we'll say is the mean average of the values, \n",
    "# except ignoring the largest and smallest values in the array. \n",
    "# If there are multiple copies of the smallest value, ignore just one copy, \n",
    "# and likewise for the largest value. Use int division to produce the final average. \n",
    "# You may assume that the array is length 3 or more.\n",
    "\n",
    "# centered_average([1, 2, 3, 4, 100]) → 3\n",
    "# centered_average([1, 1, 5, 5, 10, 8, 7]) → 5\n",
    "# centered_average([-10, -4, -2, -4, -2, 0]) → -3\n",
    "\n",
    "target_list = [1,2,3,4,7,8]\n",
    "\n",
    "def centered_average(x):\n",
    "    \n",
    "    #find position of maximum number\n",
    "    \n",
    "    min_number_position = x.index(max(x))\n",
    "    del x[min_number_position]\n",
    "    \n",
    "    max_number_position = x.index(min(x))\n",
    "    del x[max_number_position]\n",
    "    \n",
    "    #get the average from the remaining list\n",
    "    \n",
    "    cumulative_item = 0\n",
    "    \n",
    "    for item in x:\n",
    "        \n",
    "        cumulative_item = item + cumulative_item\n",
    "        \n",
    "    cent_avg = cumulative_item / len(x)\n",
    "    \n",
    "    return cent_avg\n",
    "\n",
    "print(centered_average(target_list))"
   ]
  },
  {
   "cell_type": "code",
   "execution_count": 52,
   "metadata": {},
   "outputs": [],
   "source": [
    "#asserting the prior function\n",
    "\n",
    "target_list = [4,3,5,3,1,1,82,81,4,5,1,2]\n",
    "\n",
    "assert get_actual_center_avg(target_list) == 10.9"
   ]
  },
  {
   "cell_type": "code",
   "execution_count": 80,
   "metadata": {},
   "outputs": [
    {
     "data": {
      "text/html": [
       "<div>\n",
       "<style scoped>\n",
       "    .dataframe tbody tr th:only-of-type {\n",
       "        vertical-align: middle;\n",
       "    }\n",
       "\n",
       "    .dataframe tbody tr th {\n",
       "        vertical-align: top;\n",
       "    }\n",
       "\n",
       "    .dataframe thead th {\n",
       "        text-align: right;\n",
       "    }\n",
       "</style>\n",
       "<table border=\"1\" class=\"dataframe\">\n",
       "  <thead>\n",
       "    <tr style=\"text-align: right;\">\n",
       "      <th></th>\n",
       "      <th>target_list</th>\n",
       "    </tr>\n",
       "  </thead>\n",
       "  <tbody>\n",
       "    <tr>\n",
       "      <th>0</th>\n",
       "      <td>4</td>\n",
       "    </tr>\n",
       "    <tr>\n",
       "      <th>1</th>\n",
       "      <td>3</td>\n",
       "    </tr>\n",
       "    <tr>\n",
       "      <th>2</th>\n",
       "      <td>5</td>\n",
       "    </tr>\n",
       "    <tr>\n",
       "      <th>3</th>\n",
       "      <td>3</td>\n",
       "    </tr>\n",
       "    <tr>\n",
       "      <th>4</th>\n",
       "      <td>1</td>\n",
       "    </tr>\n",
       "    <tr>\n",
       "      <th>5</th>\n",
       "      <td>1</td>\n",
       "    </tr>\n",
       "    <tr>\n",
       "      <th>6</th>\n",
       "      <td>82</td>\n",
       "    </tr>\n",
       "    <tr>\n",
       "      <th>7</th>\n",
       "      <td>81</td>\n",
       "    </tr>\n",
       "    <tr>\n",
       "      <th>8</th>\n",
       "      <td>4</td>\n",
       "    </tr>\n",
       "    <tr>\n",
       "      <th>9</th>\n",
       "      <td>5</td>\n",
       "    </tr>\n",
       "    <tr>\n",
       "      <th>10</th>\n",
       "      <td>1</td>\n",
       "    </tr>\n",
       "    <tr>\n",
       "      <th>11</th>\n",
       "      <td>2</td>\n",
       "    </tr>\n",
       "  </tbody>\n",
       "</table>\n",
       "</div>"
      ],
      "text/plain": [
       "    target_list\n",
       "0             4\n",
       "1             3\n",
       "2             5\n",
       "3             3\n",
       "4             1\n",
       "5             1\n",
       "6            82\n",
       "7            81\n",
       "8             4\n",
       "9             5\n",
       "10            1\n",
       "11            2"
      ]
     },
     "execution_count": 80,
     "metadata": {},
     "output_type": "execute_result"
    }
   ],
   "source": [
    "#use pandas to dedup a list\n",
    "\n",
    "import pandas as pd\n",
    "\n",
    "target_list = [4,3,5,3,1,1,82,81,4,5,1,2]\n",
    "\n",
    "df = pd.DataFrame(data = target_list, columns = [\"target_list\"])\n",
    "df"
   ]
  },
  {
   "cell_type": "code",
   "execution_count": 59,
   "metadata": {},
   "outputs": [
    {
     "data": {
      "text/plain": [
       "[4, 3, 5, 3, 1, 1, 82, 81, 3, 5, 1]"
      ]
     },
     "execution_count": 59,
     "metadata": {},
     "output_type": "execute_result"
    }
   ],
   "source": [
    "#de-dup a list without pandas\n",
    "\n",
    "target_list = [4,4,3,5,3,1,1,82,81,4,3,5,1,2]\n",
    "\n",
    "def dedup(x):\n",
    "\n",
    "    new_list = x[:1]\n",
    "    \n",
    "    for i in range(0,len(x)-1):\n",
    "        \n",
    "        if x[0] != x[i]:\n",
    "\n",
    "            new_list.append(x[i])\n",
    "    \n",
    "    return new_list\n",
    "            \n",
    "dedup(target_list)"
   ]
  },
  {
   "cell_type": "code",
   "execution_count": 65,
   "metadata": {},
   "outputs": [
    {
     "data": {
      "text/plain": [
       "{1, 2, 3, 4, 5, 81, 82}"
      ]
     },
     "execution_count": 65,
     "metadata": {},
     "output_type": "execute_result"
    }
   ],
   "source": [
    "target_list = [4,4,3,5,3,1,1,82,81,4,3,5,1,2]\n",
    "\n",
    "\n",
    "target_list_set = set(target_list)\n",
    "\n",
    "target_list_set"
   ]
  },
  {
   "cell_type": "code",
   "execution_count": 106,
   "metadata": {},
   "outputs": [
    {
     "data": {
      "text/plain": [
       "13"
      ]
     },
     "execution_count": 106,
     "metadata": {},
     "output_type": "execute_result"
    }
   ],
   "source": [
    "# Return the sum of the numbers in the array, returning 0 for an empty array. Except the number 13 is very unlucky, \n",
    "# so it does not count and numbers that come immediately after a 13 also do not count.\n",
    "\n",
    "\n",
    "# sum13([1, 2, 2, 1]) → 6\n",
    "# sum13([1, 1]) → 2\n",
    "# sum13([1, 2, 2, 1, 13]) → 6\n",
    "\n",
    "target_list = [4,4,3,13,5,2]\n",
    "\n",
    "def bad_thirteen(x):\n",
    "    \n",
    "    cumulative_item = x[0]\n",
    "    \n",
    "    i = 1\n",
    "    \n",
    "    for item in x[1:]:\n",
    "        \n",
    "        prior_item = x[i-1]\n",
    "        \n",
    "        if (item == 13 or prior_item == 13):\n",
    "        \n",
    "            cumulative_item = cumulative_item\n",
    "                        \n",
    "        else:\n",
    "            \n",
    "            cumulative_item = cumulative_item + item\n",
    "            \n",
    "        i += 1  #increments i\n",
    "        \n",
    "    return cumulative_item\n",
    "\n",
    "bad_thirteen(target_list)\n"
   ]
  },
  {
   "cell_type": "code",
   "execution_count": 133,
   "metadata": {},
   "outputs": [
    {
     "name": "stdout",
     "output_type": "stream",
     "text": [
      "4 4 1 first part\n",
      "4 8 2 first part\n",
      "8 22 4 second part\n",
      "4 26 5 second part\n",
      "5 31 6 second part\n",
      "6 37 7 second part\n",
      "8 45 8 second part\n",
      "9 54 9 second part\n",
      "7 61 10 second part\n",
      "2 63 11 second part\n"
     ]
    }
   ],
   "source": [
    "# Return the sum of the numbers in the array, except ignore sections of numbers starting \n",
    "# with a 6 and extending to the next 7 (every 6 will be followed by at least one 7). Return 0 for no numbers.\n",
    "\n",
    "# sum67([1, 2, 2]) → 5\n",
    "# sum67([1, 2, 2, 6, 99, 99, 7]) → 5\n",
    "# sum67([1, 1, 6, 7, 2]) → 4\n",
    "\n",
    "\n",
    "target_list = [4,4,6,6,13,7,8,4,5,6,8,9,7,2]\n",
    "\n",
    "def six_in_seven_out(x):\n",
    "    \n",
    "    cumulative_item = 0\n",
    "    \n",
    "    i = 0\n",
    "    \n",
    "    for item in x:\n",
    "        \n",
    "        cumulative_item = cumulative_item + item\n",
    "        \n",
    "        i += 1\n",
    "        \n",
    "        if item == 6:\n",
    "            \n",
    "            break\n",
    "            \n",
    "        print(item, cumulative_item, i, 'first part')             \n",
    "\n",
    "    for item in x[x.index(7)+1:]:\n",
    "        \n",
    "        cumulative_item = cumulative_item + item\n",
    "        \n",
    "        i += 1\n",
    "                           \n",
    "        print(item, cumulative_item, i, 'second part') \n",
    "    \n",
    "six_in_seven_out(target_list)\n"
   ]
  },
  {
   "cell_type": "code",
   "execution_count": 1,
   "metadata": {},
   "outputs": [
    {
     "name": "stdout",
     "output_type": "stream",
     "text": [
      "39\n"
     ]
    }
   ],
   "source": [
    "# Return the sum of the numbers in the array, except ignore sections of numbers starting \n",
    "# with a 6 and extending to the next 7 (every 6 will be followed by at least one 7). Return 0 for no numbers.\n",
    "\n",
    "# sum67([1, 2, 2]) → 5\n",
    "# sum67([1, 2, 2, 6, 99, 99, 7]) → 5\n",
    "# sum67([1, 1, 6, 7, 2]) → 4\n",
    "\n",
    "target_list = [4,5,5,7,1,2,6,1,3,7,1,6,8]\n",
    "\n",
    "def out_at_six_in_at_seven(x):\n",
    "    \n",
    "    #get the locations of all 6s and 7s in the list\n",
    "    \n",
    "    six_position = x.index(6)\n",
    "    \n",
    "    i = six_position\n",
    "    \n",
    "    for item in x[six_position:]:\n",
    "        \n",
    "        i += 1\n",
    "        \n",
    "        if item == 7:\n",
    "            \n",
    "            seven_position = i\n",
    "        \n",
    "    del x[six_position:seven_position]\n",
    "        \n",
    "    #sum up the new list for x\n",
    "    \n",
    "    cum_remaining_item = 0\n",
    "    \n",
    "    for remaining_item in x:\n",
    "        \n",
    "        cum_remaining_item = cum_remaining_item + remaining_item\n",
    "    \n",
    "    return cum_remaining_item\n",
    "    \n",
    "print(out_at_six_in_at_seven(target_list))"
   ]
  },
  {
   "cell_type": "code",
   "execution_count": 138,
   "metadata": {},
   "outputs": [
    {
     "name": "stdout",
     "output_type": "stream",
     "text": [
      "True\n"
     ]
    }
   ],
   "source": [
    "# Given an array of ints, return True if \n",
    "# the array contains a 2 next to a 2 somewhere.\n",
    "\n",
    "target_list = [1,2,2,3,4,2,2]\n",
    "\n",
    "def find_the_twos(x):\n",
    "    \n",
    "    #loop through the list to determine if there's two 2s next to eachother\n",
    "    \n",
    "    i = 1 \n",
    "    response = False\n",
    "    \n",
    "    for item in x[1:]:\n",
    "        \n",
    "        if x[i] == 2 and x[i] == x[i-1]:\n",
    "            \n",
    "            response = True\n",
    "            \n",
    "            break\n",
    "            \n",
    "        i += 1\n",
    "    \n",
    "    return response\n",
    "        \n",
    "print(find_the_twos(target_list))"
   ]
  },
  {
   "cell_type": "code",
   "execution_count": 140,
   "metadata": {},
   "outputs": [
    {
     "name": "stdout",
     "output_type": "stream",
     "text": [
      "11\n"
     ]
    }
   ],
   "source": [
    "# Return the sum of the numbers in the array, returning 0 for an empty array. \n",
    "# Except the number 13 is very unlucky, so it does not count and \n",
    "# numbers that come immediately after a 13 also do not count.\n",
    "\n",
    "\n",
    "# sum13([1, 2, 2, 1]) → 6\n",
    "# sum13([1, 1]) → 2\n",
    "# sum13([1, 2, 2, 1, 13]) → 6\n",
    "\n",
    "target_list = [1,2,3,4,13,2,1]\n",
    "\n",
    "def sum13(x):\n",
    "    \n",
    "    i = 0\n",
    "    cumulative_item = 0\n",
    "    \n",
    "    for item in x:\n",
    "        \n",
    "        if i == 0 and x[0] != 13:\n",
    "            \n",
    "            cumulative_item = x[0]\n",
    "        \n",
    "        elif x[i] == 13:\n",
    "        \n",
    "            cumulative_item = cumulative_item\n",
    "            \n",
    "        elif x[i-1] == 13:\n",
    "            \n",
    "            cumulative_item = cumulative_item\n",
    "            \n",
    "        else:\n",
    "            \n",
    "            cumulative_item = cumulative_item + item\n",
    "            \n",
    "        i += 1\n",
    "        \n",
    "    return cumulative_item\n",
    "\n",
    "print(sum13(target_list))"
   ]
  },
  {
   "cell_type": "code",
   "execution_count": null,
   "metadata": {},
   "outputs": [],
   "source": [
    "# Given an array length 1 or more of ints, return the difference between \n",
    "# the largest and smallest values in the array. Note: the built-in \n",
    "# min(v1, v2) and max(v1, v2) functions \n",
    "# return the smaller or larger of two values.\n",
    "\n",
    "\n",
    "# big_diff([10, 3, 5, 6]) → 7\n",
    "# big_diff([7, 2, 10, 9]) → 8\n",
    "# big_diff([2, 10, 7, 2]) → 8\n",
    "\n",
    "target_list = [2,4,8,10,13]\n",
    "\n",
    "def big_diff(x):\n",
    "    \n",
    "    min_item = min(x)\n",
    "    max_item = max(x)\n",
    "    \n",
    "    max_diff = max_item - min_item\n",
    "    \n",
    "    return max_diff\n",
    "\n",
    "print(big_diff(target_list))"
   ]
  },
  {
   "cell_type": "code",
   "execution_count": null,
   "metadata": {},
   "outputs": [],
   "source": [
    "# Return the sum of the numbers in the array, except ignore sections of numbers starting \n",
    "# with a 6 and extending to the next 7 (every 6 will be followed by at least one 7). Return 0 for no numbers.\n",
    "\n",
    "# sum67([1, 2, 2]) → 5\n",
    "# sum67([1, 2, 2, 6, 99, 99, 7]) → 5\n",
    "# sum67([1, 1, 6, 7, 2]) → 4\n",
    "\n",
    "target_list = [1,2,3,6,4,5,7,4]\n",
    "\n",
    "def sum67(x):\n",
    "    \n",
    "    cumulative_total = 0\n",
    "    \n",
    "    pause_incrementing = False\n",
    "    \n",
    "    for item in x:\n",
    "        \n",
    "        if item == 6:\n",
    "            \n",
    "            pause_incrementing = True\n",
    "            \n",
    "            continue\n",
    "            \n",
    "        if item == 7 and pause_incrementing == True:\n",
    "            \n",
    "            pause_incrementing = False\n",
    "            \n",
    "            continue\n",
    "            \n",
    "        if pause_incrementing == False:\n",
    "            \n",
    "            cumulative_total = cumulative_total + item\n",
    "            \n",
    "    return cumulative_total\n",
    "        \n",
    "print(sum67(target_list))"
   ]
  },
  {
   "cell_type": "code",
   "execution_count": null,
   "metadata": {},
   "outputs": [],
   "source": [
    "# \"\"\"\n",
    "# Write a function that takes a number and returns a list of its\n",
    "# digits\n",
    "# \"\"\"\n",
    "# def solution(input):\n",
    "# # Code goes here\n",
    "# return output\n",
    "# assert solution(123) == [1,2,3]\n",
    "# assert solution(400) == [4,0,0]\n",
    "# \"\"\"\n",
    "\n",
    "target_number = 574830\n",
    "\n",
    "def num_to_list(x):\n",
    "    \n",
    "    target_string = str(x)\n",
    "    \n",
    "    new_list = []\n",
    "    \n",
    "    for item in target_string:\n",
    "        \n",
    "        new_list.append(item)\n",
    "        \n",
    "    return new_list\n",
    "        \n",
    "print(num_to_list(target_number))"
   ]
  },
  {
   "cell_type": "code",
   "execution_count": null,
   "metadata": {},
   "outputs": [],
   "source": [
    "#get the second largest number in an integer\n",
    "\n",
    "target_number = 9274529\n",
    "\n",
    "def second_largest(x):\n",
    "    \n",
    "    #turn the number into a list\n",
    "    \n",
    "    str_number = str(target_number)\n",
    "    str_list = []\n",
    "    \n",
    "    for item in str_number:\n",
    "        \n",
    "        str_list.append(item)\n",
    "        \n",
    "    #find the second largest_number in the list\n",
    "    \n",
    "    sorted_list = sorted(set(str_list))\n",
    "        \n",
    "    second_largest = sorted_list[-2]\n",
    "    \n",
    "    return second_largest\n",
    "\n",
    "print(second_largest(target_number))"
   ]
  },
  {
   "cell_type": "code",
   "execution_count": 55,
   "metadata": {},
   "outputs": [
    {
     "data": {
      "text/plain": [
       "[4, 5, 6, 7]"
      ]
     },
     "execution_count": 55,
     "metadata": {},
     "output_type": "execute_result"
    }
   ],
   "source": [
    "# use the lambda function\n",
    "\n",
    "target_list = [2,3,4,5]\n",
    "\n",
    "f = lambda x : x + 2\n",
    "\n",
    "list(map(f, target_list))"
   ]
  },
  {
   "cell_type": "code",
   "execution_count": 51,
   "metadata": {
    "scrolled": true
   },
   "outputs": [
    {
     "data": {
      "text/plain": [
       "[{'name': 'python', 'points': 10}, {'name': 'java', 'points': 8}]"
      ]
     },
     "execution_count": 51,
     "metadata": {},
     "output_type": "execute_result"
    }
   ],
   "source": [
    "#using lambdas to extract column values in a dictionary\n",
    "\n",
    "dict_a = [{'name': 'python', 'points': 10}, {'name': 'java', 'points': 8}]\n",
    "\n",
    "p_name = map(lambda x: x['name'] + 'p', dict_a)\n",
    "\n",
    "points = map(lambda x: x['points'], dict_a)\n",
    "\n",
    "dict_p_name = [{'pname':list(p_name)}]\n",
    "\n",
    "dict_points = [{'points':list(points)}]\n",
    "\n",
    "list(zip(dict_p_name,dict_points))\n",
    "\n",
    "dict_a"
   ]
  },
  {
   "cell_type": "code",
   "execution_count": 76,
   "metadata": {},
   "outputs": [
    {
     "data": {
      "text/plain": [
       "[0, 9, 8, 7, 6]"
      ]
     },
     "execution_count": 76,
     "metadata": {},
     "output_type": "execute_result"
    }
   ],
   "source": [
    "#reverse the order of an array\n",
    "\n",
    "target_list = [1,2,3,4,5,6,7,8,9,0]\n",
    "\n",
    "target_list[:4:-1]"
   ]
  },
  {
   "cell_type": "code",
   "execution_count": 13,
   "metadata": {},
   "outputs": [
    {
     "name": "stdout",
     "output_type": "stream",
     "text": [
      "6\n"
     ]
    }
   ],
   "source": [
    "#find the missing number in an array\n",
    "\n",
    "array = (3,7,1,2,8,4,5)\n",
    "\n",
    "for num_check in list(range(min(array),max(array)+1)):\n",
    "    \n",
    "    if num_check in array:\n",
    "        \n",
    "        continue\n",
    "        \n",
    "    else:\n",
    "        \n",
    "        print(num_check)"
   ]
  },
  {
   "cell_type": "code",
   "execution_count": 78,
   "metadata": {},
   "outputs": [
    {
     "name": "stdout",
     "output_type": "stream",
     "text": [
      "[1, 3, 3, 4, 4, 5, 5, 6, 6, 6]\n"
     ]
    }
   ],
   "source": [
    "#merge two sorted linked lists\n",
    "\n",
    "a = [1,5,4,6,3]\n",
    "\n",
    "b = [3,6,7,5,4]\n",
    "\n",
    "def merge_sorted(x,y):\n",
    "\n",
    "    a.sort()\n",
    "\n",
    "    b.sort()\n",
    "\n",
    "    c = len(a) + len(b) + 1\n",
    "\n",
    "    container_list = []\n",
    "\n",
    "    for item in range(1,c):\n",
    "    #check if either list is empty first\n",
    "        if not a and not b:\n",
    "\n",
    "            break\n",
    "\n",
    "        elif not a:\n",
    "\n",
    "            container_list.append(b[0])\n",
    "\n",
    "        elif not b:\n",
    "\n",
    "            container_list.append(a[0])\n",
    "\n",
    "        elif min(a) <= min(b):\n",
    "\n",
    "            container_list.append(a[0])\n",
    "\n",
    "            del a[0]\n",
    "\n",
    "        else:\n",
    "\n",
    "            container_list.append(b[0])\n",
    "\n",
    "            del b[0]   \n",
    "    \n",
    "    return container_list\n",
    "\n",
    "print(merge_sorted(a,b))"
   ]
  },
  {
   "cell_type": "code",
   "execution_count": 64,
   "metadata": {},
   "outputs": [
    {
     "name": "stdout",
     "output_type": "stream",
     "text": [
      "[1, 2, 3, 4]\n"
     ]
    }
   ],
   "source": [
    "\n",
    "a = [1,5]\n",
    "\n",
    "b = [3,6]\n",
    "\n",
    "c = len(a) + len(b)\n",
    "\n",
    "container_list = []\n",
    "\n",
    "print(list(range(1,c+1)))"
   ]
  },
  {
   "cell_type": "code",
   "execution_count": null,
   "metadata": {},
   "outputs": [],
   "source": []
  }
 ],
 "metadata": {
  "kernelspec": {
   "display_name": "Python 3",
   "language": "python",
   "name": "python3"
  },
  "language_info": {
   "codemirror_mode": {
    "name": "ipython",
    "version": 3
   },
   "file_extension": ".py",
   "mimetype": "text/x-python",
   "name": "python",
   "nbconvert_exporter": "python",
   "pygments_lexer": "ipython3",
   "version": "3.6.9"
  }
 },
 "nbformat": 4,
 "nbformat_minor": 2
}
