{
 "cells": [
  {
   "cell_type": "code",
   "execution_count": 80,
   "metadata": {},
   "outputs": [],
   "source": [
    "import numpy as np\n",
    "import pandas as pd"
   ]
  },
  {
   "cell_type": "code",
   "execution_count": 235,
   "metadata": {},
   "outputs": [],
   "source": [
    "#this version captures all possible substrings of two strings and then merges them together\n",
    "\n",
    "def make_substrings(x,y):\n",
    "\n",
    "    #run the function for x\n",
    "    \n",
    "    cum_substrings_x = pd.Series()\n",
    "    \n",
    "    #get all possible string combinations\n",
    "    \n",
    "    for starting_letter in range(0,len(x)):\n",
    "    \n",
    "        for counter in range(1,len(x)+1):\n",
    "\n",
    "            add_substrings = pd.Series(x[starting_letter:counter])\n",
    "\n",
    "            cum_substrings_x = cum_substrings_x.append(add_substrings)\n",
    "    \n",
    "    cum_substrings_x.drop_duplicates(inplace=True)\n",
    "    \n",
    "    cum_substrings_x.name = 'substrings'\n",
    "    \n",
    "    #run the function for y\n",
    "    \n",
    "    cum_substrings_y = pd.Series()\n",
    "    \n",
    "    for starting_letter in range(0,len(y)):\n",
    "    \n",
    "        for counter in range(1,len(y)+1):\n",
    "\n",
    "            add_substrings = pd.Series(y[starting_letter:counter])\n",
    "\n",
    "            cum_substrings_y = cum_substrings_y.append(add_substrings)\n",
    "    \n",
    "    cum_substrings_y.drop_duplicates(inplace=True)\n",
    "    \n",
    "    cum_substrings_y.name = 'substrings'\n",
    "    \n",
    "    #merge the two series together\n",
    "    \n",
    "    overlap = pd.merge(cum_substrings_x,cum_substrings_y,how='inner')\n",
    "    \n",
    "    overlap['substring_length'] =  overlap['substrings'].apply(lambda x: len(x))\n",
    "    \n",
    "    max_substring_length = max(overlap['substring_length'])\n",
    "    \n",
    "    result = overlap[overlap['substring_length'] == max_substring_length]\n",
    "\n",
    "    return result"
   ]
  },
  {
   "cell_type": "code",
   "execution_count": 239,
   "metadata": {},
   "outputs": [
    {
     "data": {
      "text/html": [
       "<div>\n",
       "<style scoped>\n",
       "    .dataframe tbody tr th:only-of-type {\n",
       "        vertical-align: middle;\n",
       "    }\n",
       "\n",
       "    .dataframe tbody tr th {\n",
       "        vertical-align: top;\n",
       "    }\n",
       "\n",
       "    .dataframe thead th {\n",
       "        text-align: right;\n",
       "    }\n",
       "</style>\n",
       "<table border=\"1\" class=\"dataframe\">\n",
       "  <thead>\n",
       "    <tr style=\"text-align: right;\">\n",
       "      <th></th>\n",
       "      <th>substrings</th>\n",
       "      <th>substring_length</th>\n",
       "    </tr>\n",
       "  </thead>\n",
       "  <tbody>\n",
       "    <tr>\n",
       "      <th>20</th>\n",
       "      <td>york is where i</td>\n",
       "      <td>17</td>\n",
       "    </tr>\n",
       "  </tbody>\n",
       "</table>\n",
       "</div>"
      ],
      "text/plain": [
       "           substrings  substring_length\n",
       "20   york is where i                 17"
      ]
     },
     "execution_count": 239,
     "metadata": {},
     "output_type": "execute_result"
    }
   ],
   "source": [
    "make_substrings('new york is where i live','the town of york is where i reside')"
   ]
  },
  {
   "cell_type": "code",
   "execution_count": 68,
   "metadata": {},
   "outputs": [],
   "source": [
    "#this version of the script checks to see whether a substring from one is in the other sting\n",
    "\n",
    "def compare_substrings(x,y):\n",
    "    \n",
    "    len_biggest_substring = 0\n",
    "    \n",
    "    biggest_substring = \"\"\n",
    "    \n",
    "    for starting_letter in range(0,len(x)):\n",
    "            \n",
    "        for counter in range(1,len(x)+1):\n",
    "\n",
    "            substring_x = x[starting_letter:counter]\n",
    "\n",
    "            if substring_x in y:\n",
    "\n",
    "                len_substring = len(substring_x)\n",
    "\n",
    "                if len_substring > len_biggest_substring:\n",
    "\n",
    "                    len_biggest_substring = len_substring\n",
    "\n",
    "                    biggest_substring = substring_x\n",
    "\n",
    "                else:\n",
    "\n",
    "                    continue\n",
    "            else:\n",
    "\n",
    "                len_substring = 0\n",
    "\n",
    "    answer = \"the biggest substring is \"+ str(len_biggest_substring) +\" characters it's:\"+ biggest_substring\n",
    "    \n",
    "    return answer"
   ]
  },
  {
   "cell_type": "code",
   "execution_count": 69,
   "metadata": {},
   "outputs": [
    {
     "data": {
      "text/plain": [
       "\"the biggest substring is 9 characters it's:checkers \""
      ]
     },
     "execution_count": 69,
     "metadata": {},
     "output_type": "execute_result"
    }
   ],
   "source": [
    "compare_substrings('check my checkers do they look fine?','checkers are cool')"
   ]
  }
 ],
 "metadata": {
  "kernelspec": {
   "display_name": "Python 3",
   "language": "python",
   "name": "python3"
  },
  "language_info": {
   "codemirror_mode": {
    "name": "ipython",
    "version": 3
   },
   "file_extension": ".py",
   "mimetype": "text/x-python",
   "name": "python",
   "nbconvert_exporter": "python",
   "pygments_lexer": "ipython3",
   "version": "3.6.9"
  }
 },
 "nbformat": 4,
 "nbformat_minor": 2
}
