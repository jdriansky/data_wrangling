{
 "cells": [
  {
   "cell_type": "code",
   "execution_count": 1,
   "metadata": {},
   "outputs": [],
   "source": [
    "#determine whether there is an odd 0, or even 1, number of 1s in a binary string\n",
    "\n",
    "def parity(x: int) -> int:\n",
    "    result = 0\n",
    "    while x:\n",
    "        result ^= x & 1\n",
    "        x >>=1\n",
    "    return result"
   ]
  },
  {
   "cell_type": "code",
   "execution_count": 22,
   "metadata": {},
   "outputs": [
    {
     "name": "stdout",
     "output_type": "stream",
     "text": [
      "1 + 0\n"
     ]
    }
   ],
   "source": [
    "print(parity(1010101010101010101010101011),\"+\",parity(101))"
   ]
  },
  {
   "cell_type": "code",
   "execution_count": 31,
   "metadata": {},
   "outputs": [],
   "source": [
    "from typing import List\n",
    "\n",
    "RED, WHITE, BLUE = range(3)\n",
    "\n",
    "def dutch_flag_partition(pivot_index: int, A: List[int]) -> None:\n",
    "    pivot = A[pivot_index]\n",
    "    # First pass: group elements smaller than pivot\n",
    "    for i in range(len(A)):\n",
    "        # Look for a smaller element.\n",
    "        for j in range(i+1, len(A)):\n",
    "            if A[j] < pivot:\n",
    "                A[i], A[j] = A[j], A[i]\n",
    "                break\n",
    "        for i in reversed(range(len(A))):\n",
    "            # Look for a larger elemen.  Stop when we reach an element less than\n",
    "            # pivot, since first pass has moved them to the start of A\n",
    "            for j in reversed(range(i)):\n",
    "                if A[j] > pivot:\n",
    "                    A[i], A[j] = A[j], A[i]\n",
    "                    break"
   ]
  },
  {
   "cell_type": "code",
   "execution_count": 36,
   "metadata": {},
   "outputs": [
    {
     "data": {
      "text/plain": [
       "7"
      ]
     },
     "execution_count": 36,
     "metadata": {},
     "output_type": "execute_result"
    }
   ],
   "source": [
    "A = [1,4,5,7,9]\n",
    "A[3]"
   ]
  },
  {
   "cell_type": "code",
   "execution_count": null,
   "metadata": {},
   "outputs": [],
   "source": []
  }
 ],
 "metadata": {
  "kernelspec": {
   "display_name": "Python 3",
   "language": "python",
   "name": "python3"
  },
  "language_info": {
   "codemirror_mode": {
    "name": "ipython",
    "version": 3
   },
   "file_extension": ".py",
   "mimetype": "text/x-python",
   "name": "python",
   "nbconvert_exporter": "python",
   "pygments_lexer": "ipython3",
   "version": "3.6.9"
  }
 },
 "nbformat": 4,
 "nbformat_minor": 2
}
